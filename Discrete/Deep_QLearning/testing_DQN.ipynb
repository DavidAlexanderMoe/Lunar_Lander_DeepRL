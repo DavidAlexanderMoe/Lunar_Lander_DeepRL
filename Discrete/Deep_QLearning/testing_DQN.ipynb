{
 "cells": [
  {
   "cell_type": "markdown",
   "metadata": {},
   "source": [
    "# Testing Deep Q-Learning Agent"
   ]
  },
  {
   "cell_type": "code",
   "execution_count": 1,
   "metadata": {},
   "outputs": [],
   "source": [
    "import gymnasium as gym\n",
    "import numpy as np\n",
    "import matplotlib.pyplot as plt\n",
    "from time import sleep\n",
    "from IPython.display import display, clear_output\n",
    "\n",
    "from dqn import QAgent"
   ]
  },
  {
   "cell_type": "code",
   "execution_count": 2,
   "metadata": {},
   "outputs": [],
   "source": [
    "def show_video(agent,\n",
    "               env,\n",
    "               sleep_sec: float = 0.01,\n",
    "               mode: str = \"rgb_array\"):\n",
    "\n",
    "    state, _ = env.reset()\n",
    "    state_size = env.observation_space.shape[0]\n",
    "\n",
    "    if mode == \"rgb_array\":\n",
    "        steps = 0\n",
    "        fig, ax = plt.subplots(figsize=(8, 6))\n",
    "\n",
    "    done = False\n",
    "    while not done:\n",
    "        state = np.reshape(state, [1, state_size])\n",
    "        action = agent.act(state)\n",
    "\n",
    "        state, _, done, _, _ = env.step(action)\n",
    "\n",
    "        if mode == \"rgb_array\":\n",
    "            steps += 1\n",
    "            frame = env.render()\n",
    "            ax.cla()\n",
    "            ax.axes.yaxis.set_visible(False)\n",
    "            ax.imshow(frame)\n",
    "            ax.set_title(f'Steps: {steps}')\n",
    "            display(fig)\n",
    "            clear_output(wait=True)\n",
    "            plt.pause(sleep_sec)\n",
    "        else:\n",
    "            env.render()\n",
    "            sleep(sleep_sec)"
   ]
  },
  {
   "cell_type": "code",
   "execution_count": 3,
   "metadata": {},
   "outputs": [],
   "source": [
    "# define environment\n",
    "env = gym.make('LunarLander-v2', render_mode='rgb_array')\n",
    "\n",
    "# define parameters\n",
    "episodes = 10\n",
    "\n",
    "# define and train agent\n",
    "agent = QAgent(env)"
   ]
  },
  {
   "cell_type": "code",
   "execution_count": 4,
   "metadata": {},
   "outputs": [
    {
     "name": "stdout",
     "output_type": "stream",
     "text": [
      "Episode 1\tAverage Score: 295.81, \t Timesteps: 294 \tTime: 00:00:00\n",
      "Episode 2\tAverage Score: 263.21, \t Timesteps: 267 \tTime: 00:00:00\n",
      "Episode 3\tAverage Score: 261.08, \t Timesteps: 391 \tTime: 00:00:00\n",
      "Episode 4\tAverage Score: 135.09, \t Timesteps: 184 \tTime: 00:00:00\n",
      "Episode 5\tAverage Score: 66.52, \t Timesteps: 305 \tTime: 00:00:00\n",
      "Episode 6\tAverage Score: 54.66, \t Timesteps: 223 \tTime: 00:00:00\n",
      "Episode 7\tAverage Score: 88.28, \t Timesteps: 271 \tTime: 00:00:00\n",
      "Episode 8\tAverage Score: -105.62, \t Timesteps: 116606 \tTime: 00:03:08\n",
      "Episode 9\tAverage Score: -125.41, \t Timesteps: 199 \tTime: 00:00:00\n",
      "Episode 10\tAverage Score: -89.07, \t Timesteps: 464 \tTime: 00:00:00\n"
     ]
    }
   ],
   "source": [
    "# load state_dict and play in environment\n",
    "agent.load('DQN')\n",
    "agent.testing(env=env, episodes=episodes)"
   ]
  },
  {
   "cell_type": "code",
   "execution_count": 6,
   "metadata": {},
   "outputs": [
    {
     "data": {
      "image/png": "[encoded data removed]",
      "text/plain": [
       "<Figure size 800x600 with 1 Axes>"
      ]
     },
     "metadata": {},
     "output_type": "display_data"
    }
   ],
   "source": [
    "# no seed so different each time\n",
    "# the goal is to reach an average score on training of at least 200 so that each run is a win\n",
    "show_video(agent, env, sleep_sec=1e-5)\n",
    "env.close()"
   ]
  }
 ],
 "metadata": {
  "kernelspec": {
   "display_name": "Python 3",
   "language": "python",
   "name": "python3"
  },
  "language_info": {
   "codemirror_mode": {
    "name": "ipython",
    "version": 3
   },
   "file_extension": ".py",
   "mimetype": "text/x-python",
   "name": "python",
   "nbconvert_exporter": "python",
   "pygments_lexer": "ipython3",
   "version": "3.10.13"
  }
 },
 "nbformat": 4,
 "nbformat_minor": 2
}
