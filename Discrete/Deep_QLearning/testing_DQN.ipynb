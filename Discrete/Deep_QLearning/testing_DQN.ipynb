{
 "cells": [
  {
   "cell_type": "markdown",
   "metadata": {},
   "source": [
    "# Testing Deep Q-Learning Agent"
   ]
  },
  {
   "cell_type": "code",
   "execution_count": 3,
   "metadata": {},
   "outputs": [],
   "source": [
    "import gymnasium as gym\n",
    "import torch\n",
    "import os\n",
    "\n",
    "from dqn import QAgent"
   ]
  },
  {
   "cell_type": "code",
   "execution_count": 4,
   "metadata": {},
   "outputs": [],
   "source": [
    "# define environment\n",
    "env = gym.make('LunarLander-v2')\n",
    "\n",
    "# define parameters\n",
    "state_size = env.observation_space.shape[0]\n",
    "action_size = env.action_space.n\n",
    "episodes = 10\n",
    "\n",
    "# define and train agent\n",
    "agent = QAgent(env)"
   ]
  },
  {
   "cell_type": "code",
   "execution_count": 6,
   "metadata": {},
   "outputs": [
    {
     "name": "stderr",
     "output_type": "stream",
     "text": [
      "C:\\Users\\david\\AppData\\Local\\Packages\\PythonSoftwareFoundation.Python.3.10_qbz5n2kfra8p0\\LocalCache\\local-packages\\Python310\\site-packages\\gymnasium\\envs\\box2d\\lunar_lander.py:681: UserWarning: \u001b[33mWARN: You are calling render method without specifying any render mode. You can specify the render_mode at initialization, e.g. gym.make(\"LunarLander-v2\", render_mode=\"rgb_array\")\u001b[0m\n",
      "  gym.logger.warn(\n"
     ]
    },
    {
     "name": "stdout",
     "output_type": "stream",
     "text": [
      "Episode 1\tAverage Score: -30.81, \t Timesteps: 143 \tTime: 00:00:00\n",
      "Episode 2\tAverage Score: -256.66, \t Timesteps: 268 \tTime: 00:00:00\n",
      "Episode 3\tAverage Score: -225.40, \t Timesteps: 336 \tTime: 00:00:00\n",
      "Episode 4\tAverage Score: -202.62, \t Timesteps: 151 \tTime: 00:00:00\n",
      "Episode 5\tAverage Score: -170.64, \t Timesteps: 116 \tTime: 00:00:00\n",
      "Episode 6\tAverage Score: -165.37, \t Timesteps: 220 \tTime: 00:00:00\n",
      "Episode 7\tAverage Score: -163.80, \t Timesteps: 252 \tTime: 00:00:00\n",
      "Episode 8\tAverage Score: -166.95, \t Timesteps: 359 \tTime: 00:00:00\n",
      "Episode 9\tAverage Score: -170.82, \t Timesteps: 299 \tTime: 00:00:00\n",
      "Episode 10\tAverage Score: -269.95, \t Timesteps: 145 \tTime: 00:00:00\n"
     ]
    }
   ],
   "source": [
    "# load state_dict and play in environment\n",
    "agent.load('QAgent')\n",
    "agent.testing(env=env, episodes=10)"
   ]
  },
  {
   "cell_type": "code",
   "execution_count": 7,
   "metadata": {},
   "outputs": [],
   "source": [
    "env.close()"
   ]
  }
 ],
 "metadata": {
  "kernelspec": {
   "display_name": "Python 3",
   "language": "python",
   "name": "python3"
  },
  "language_info": {
   "codemirror_mode": {
    "name": "ipython",
    "version": 3
   },
   "file_extension": ".py",
   "mimetype": "text/x-python",
   "name": "python",
   "nbconvert_exporter": "python",
   "pygments_lexer": "ipython3",
   "version": "3.10.11"
  }
 },
 "nbformat": 4,
 "nbformat_minor": 2
}
