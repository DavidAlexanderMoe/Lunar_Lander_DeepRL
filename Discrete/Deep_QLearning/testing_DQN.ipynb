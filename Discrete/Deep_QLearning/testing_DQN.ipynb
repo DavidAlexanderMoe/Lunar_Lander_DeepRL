{
 "cells": [
  {
   "cell_type": "markdown",
   "metadata": {},
   "source": [
    "# Testing Deep Q-Learning Agent"
   ]
  },
  {
   "cell_type": "code",
   "execution_count": 1,
   "metadata": {},
   "outputs": [],
   "source": [
    "import gymnasium as gym\n",
    "import torch\n",
    "import numpy as np\n",
    "import matplotlib.pyplot as plt\n",
    "from time import sleep\n",
    "from IPython.display import display, clear_output\n",
    "\n",
    "from dqn import QAgent"
   ]
  },
  {
   "cell_type": "code",
   "execution_count": 2,
   "metadata": {},
   "outputs": [],
   "source": [
    "def show_video(agent,\n",
    "               env,\n",
    "               sleep_sec: float = 0.01,\n",
    "               mode: str = \"rgb_array\"):\n",
    "    state_size = env.observation_space.shape[0]\n",
    "    state, _ = env.reset()\n",
    "\n",
    "    if mode == \"rgb_array\":\n",
    "        steps = 0\n",
    "        fig, ax = plt.subplots(figsize=(8, 6))\n",
    "\n",
    "    done = False\n",
    "    while not done:\n",
    "        state = np.reshape(state, [1, state_size])\n",
    "        action = agent.act(state)\n",
    "        state, _, done, _, _ = env.step(action)\n",
    "\n",
    "        if mode == \"rgb_array\":\n",
    "            steps += 1\n",
    "            frame = env.render()\n",
    "            ax.cla()\n",
    "            ax.axes.yaxis.set_visible(False)\n",
    "            ax.imshow(frame)\n",
    "            ax.set_title(f'Steps: {steps}')\n",
    "            display(fig)\n",
    "            clear_output(wait=True)\n",
    "            plt.pause(sleep_sec)\n",
    "        else:\n",
    "            env.render()\n",
    "            sleep(sleep_sec)"
   ]
  },
  {
   "cell_type": "code",
   "execution_count": 3,
   "metadata": {},
   "outputs": [],
   "source": [
    "# define environment\n",
    "env = gym.make('LunarLander-v2', render_mode='rgb_array')\n",
    "\n",
    "# define parameters\n",
    "episodes = 10\n",
    "\n",
    "# define agent\n",
    "agent = QAgent(env)"
   ]
  },
  {
   "cell_type": "code",
   "execution_count": 4,
   "metadata": {},
   "outputs": [
    {
     "name": "stdout",
     "output_type": "stream",
     "text": [
      "Episode 1\tScore: 257.02 \tTimesteps: 511 \tTime: 00:00:01\n",
      "Episode 2\tScore: 215.61 \tTimesteps: 449 \tTime: 00:00:01\n",
      "Episode 3\tScore: 250.11 \tTimesteps: 291 \tTime: 00:00:00\n",
      "Episode 4\tScore: 268.60 \tTimesteps: 397 \tTime: 00:00:01\n",
      "Episode 5\tScore: -41.94 \tTimesteps: 226 \tTime: 00:00:00\n",
      "Episode 6\tScore: 283.96 \tTimesteps: 373 \tTime: 00:00:01\n",
      "Episode 7\tScore: -40.25 \tTimesteps: 225 \tTime: 00:00:00\n",
      "Episode 8\tScore: 284.13 \tTimesteps: 264 \tTime: 00:00:00\n",
      "Episode 9\tScore: 241.47 \tTimesteps: 437 \tTime: 00:00:01\n",
      "Episode 10\tScore: 138.40 \tTimesteps: 825 \tTime: 00:00:02\n"
     ]
    }
   ],
   "source": [
    "# load state_dict and play in environment\n",
    "agent.model.load_state_dict(torch.load('Trained_Agents/DQN_Agent.pth'))\n",
    "agent.model.eval()\n",
    "agent.testing(env=env, episodes=episodes)"
   ]
  },
  {
   "cell_type": "code",
   "execution_count": 10,
   "metadata": {},
   "outputs": [
    {
     "data": {
      "image/png": "[encoded data removed]",
      "text/plain": [
       "<Figure size 800x600 with 1 Axes>"
      ]
     },
     "metadata": {},
     "output_type": "display_data"
    }
   ],
   "source": [
    "# the goal is to reach an average score on training of at least 200 so that each run is a win\n",
    "show_video(agent, env, sleep_sec=1e-5)\n",
    "env.close()"
   ]
  }
 ],
 "metadata": {
  "kernelspec": {
   "display_name": "Python 3",
   "language": "python",
   "name": "python3"
  },
  "language_info": {
   "codemirror_mode": {
    "name": "ipython",
    "version": 3
   },
   "file_extension": ".py",
   "mimetype": "text/x-python",
   "name": "python",
   "nbconvert_exporter": "python",
   "pygments_lexer": "ipython3",
   "version": "3.10.11"
  }
 },
 "nbformat": 4,
 "nbformat_minor": 2
}
