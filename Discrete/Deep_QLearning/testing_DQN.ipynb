{
 "cells": [
  {
   "cell_type": "markdown",
   "metadata": {},
   "source": [
    "# Testing Deep Q-Learning Agent"
   ]
  },
  {
   "cell_type": "code",
   "execution_count": 12,
   "metadata": {},
   "outputs": [],
   "source": [
    "import gymnasium as gym\n",
    "from dqn import QAgent"
   ]
  },
  {
   "cell_type": "code",
   "execution_count": 13,
   "metadata": {},
   "outputs": [],
   "source": [
    "# define environment\n",
    "env = gym.make('LunarLander-v2')\n",
    "\n",
    "# define parameters\n",
    "episodes = 10\n",
    "\n",
    "# define and train agent\n",
    "agent = QAgent(env)"
   ]
  },
  {
   "cell_type": "code",
   "execution_count": 14,
   "metadata": {},
   "outputs": [
    {
     "name": "stdout",
     "output_type": "stream",
     "text": [
      "Episode 1\tAverage Score: -203.75, \t Timesteps: 234 \tTime: 00:00:00\n",
      "Episode 2\tAverage Score: -656.86, \t Timesteps: 140 \tTime: 00:00:00\n",
      "Episode 3\tAverage Score: -496.17, \t Timesteps: 440 \tTime: 00:00:00\n",
      "Episode 4\tAverage Score: -418.73, \t Timesteps: 301 \tTime: 00:00:00\n",
      "Episode 5\tAverage Score: -345.78, \t Timesteps: 118 \tTime: 00:00:00\n",
      "Episode 6\tAverage Score: -312.92, \t Timesteps: 136 \tTime: 00:00:00\n",
      "Episode 7\tAverage Score: -335.65, \t Timesteps: 191 \tTime: 00:00:00\n",
      "Episode 8\tAverage Score: -317.13, \t Timesteps: 203 \tTime: 00:00:00\n",
      "Episode 9\tAverage Score: -298.21, \t Timesteps: 165 \tTime: 00:00:00\n",
      "Episode 10\tAverage Score: -285.46, \t Timesteps: 498 \tTime: 00:00:00\n"
     ]
    }
   ],
   "source": [
    "# load state_dict and play in environment\n",
    "agent.load('QAgent')\n",
    "agent.testing(env=env, episodes=episodes)"
   ]
  },
  {
   "cell_type": "code",
   "execution_count": 15,
   "metadata": {},
   "outputs": [],
   "source": [
    "env.close()"
   ]
  }
 ],
 "metadata": {
  "kernelspec": {
   "display_name": "Python 3",
   "language": "python",
   "name": "python3"
  },
  "language_info": {
   "codemirror_mode": {
    "name": "ipython",
    "version": 3
   },
   "file_extension": ".py",
   "mimetype": "text/x-python",
   "name": "python",
   "nbconvert_exporter": "python",
   "pygments_lexer": "ipython3",
   "version": "3.10.11"
  }
 },
 "nbformat": 4,
 "nbformat_minor": 2
}
