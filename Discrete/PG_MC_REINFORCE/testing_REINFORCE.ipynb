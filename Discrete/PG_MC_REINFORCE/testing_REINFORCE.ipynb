{
 "cells": [
  {
   "cell_type": "code",
   "execution_count": 1,
   "metadata": {},
   "outputs": [],
   "source": [
    "import torch\n",
    "import matplotlib.pyplot as plt\n",
    "import gym\n",
    "import numpy as np\n",
    "from scipy.signal import savgol_filter\n",
    "\n",
    "from REINFORCE import MCPGAgent"
   ]
  },
  {
   "cell_type": "code",
   "execution_count": 8,
   "metadata": {},
   "outputs": [],
   "source": [
    "# initialize environment\n",
    "env = gym.make('LunarLander-v2', render_mode='rgb_array')\n",
    "action_size = env.action_space.n\n",
    "state_size = env.observation_space.shape[0]\n",
    "\n",
    "# set seed\n",
    "seed = 31\n",
    "np.random.seed(seed)\n",
    "torch.manual_seed(seed)\n",
    "if torch.cuda.is_available():\n",
    "    torch.cuda.manual_seed(seed)\n",
    "    torch.cuda.manual_seed_all(seed)\n",
    "\n",
    "\n",
    "# hyperparameters\n",
    "episodes = 100 # run agent for this many episodes\n",
    "hidden_size = 256 # number of units in NN hidden layers\n",
    "actor_lr = 0.002 # learning rate for actor\n",
    "value_function_lr = 0.002 # learning rate for value function\n",
    "discount = 0.99 # discount factor gamma value\n",
    "reward_scale = 0.01 #scale reward by this amount\n",
    "\n",
    "# create agent\n",
    "agent = MCPGAgent(state_size, \n",
    "                action_size, \n",
    "                actor_lr, \n",
    "                value_function_lr, \n",
    "                discount,\n",
    "                hidden_size)"
   ]
  },
  {
   "cell_type": "code",
   "execution_count": 9,
   "metadata": {},
   "outputs": [
    {
     "data": {
      "text/plain": [
       "<All keys matched successfully>"
      ]
     },
     "execution_count": 9,
     "metadata": {},
     "output_type": "execute_result"
    }
   ],
   "source": [
    "# load the saved actor and value function networks\n",
    "agent.actor_net.load_state_dict(torch.load('..\\\\Trained_Agents\\\\MC_actor.pth'))\n",
    "agent.vf_net.load_state_dict(torch.load('..\\\\Trained_Agents\\\\MC_valueF.pth'))"
   ]
  },
  {
   "cell_type": "code",
   "execution_count": 10,
   "metadata": {},
   "outputs": [
    {
     "name": "stdout",
     "output_type": "stream",
     "text": [
      "Episode 1/10, total reward: -56.10\n",
      "Episode 2/10, total reward: -22.19\n",
      "Episode 3/10, total reward: -8.95\n",
      "Episode 4/10, total reward: -75.41\n",
      "Episode 5/10, total reward: -38.77\n",
      "Episode 6/10, total reward: -33.90\n",
      "Episode 7/10, total reward: -77.68\n",
      "Episode 8/10, total reward: -73.06\n",
      "Episode 9/10, total reward: -47.71\n",
      "Episode 10/10, total reward: -43.02\n"
     ]
    }
   ],
   "source": [
    "# set the agent to evaluation mode\n",
    "agent.actor_net.eval()\n",
    "agent.vf_net.eval()\n",
    "\n",
    "# run the agent for a few episodes and print the total reward for each episode\n",
    "cumulative_reward = 0\n",
    "for i in range(10):\n",
    "    state, _ = env.reset()\n",
    "    done = False\n",
    "    total_reward = 0\n",
    "    while not done:\n",
    "        action = agent.act(state)\n",
    "        next_state, reward, done, _, _ = env.step(action)\n",
    "        total_reward += reward\n",
    "        state = next_state\n",
    "    print(f'Episode {i+1}/10, total reward: {total_reward:.2f}')\n"
   ]
  },
  {
   "cell_type": "markdown",
   "metadata": {},
   "source": [
    "add show video"
   ]
  }
 ],
 "metadata": {
  "kernelspec": {
   "display_name": "Python 3",
   "language": "python",
   "name": "python3"
  },
  "language_info": {
   "codemirror_mode": {
    "name": "ipython",
    "version": 3
   },
   "file_extension": ".py",
   "mimetype": "text/x-python",
   "name": "python",
   "nbconvert_exporter": "python",
   "pygments_lexer": "ipython3",
   "version": "3.10.11"
  }
 },
 "nbformat": 4,
 "nbformat_minor": 2
}
