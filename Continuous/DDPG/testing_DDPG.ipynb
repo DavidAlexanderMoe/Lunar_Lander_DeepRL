{
 "cells": [
  {
   "cell_type": "code",
   "execution_count": 31,
   "metadata": {},
   "outputs": [],
   "source": [
    "import torch\n",
    "import matplotlib.pyplot as plt\n",
    "import gymnasium as gym\n",
    "import numpy as np\n",
    "from time import sleep\n",
    "\n",
    "from DDPG import DDPGAgent"
   ]
  },
  {
   "cell_type": "code",
   "execution_count": 32,
   "metadata": {},
   "outputs": [],
   "source": [
    "# set seed\n",
    "seed = 31\n",
    "np.random.seed(seed)\n",
    "torch.manual_seed(seed)\n",
    "if torch.cuda.is_available():\n",
    "    torch.cuda.manual_seed(seed)\n",
    "    torch.cuda.manual_seed_all(seed)"
   ]
  },
  {
   "cell_type": "code",
   "execution_count": 33,
   "metadata": {},
   "outputs": [],
   "source": [
    "# Initialize environment\n",
    "env = gym.make('LunarLanderContinuous-v2')\n",
    "\n",
    "action_size = env.action_space.shape[0]\n",
    "state_size = env.observation_space.shape[0]\n",
    "min_action = env.action_space.low[0]\n",
    "max_action = env.action_space.high[0]\n",
    "\n",
    "episodes = 1000    \n",
    "discount = 0.99\n",
    "batch_size = 32\n",
    "exploration_noise = 0.1\n",
    "hidden_size = 64\n",
    "actor_lr = 0.0005\n",
    "critic_lr = 0.0005\n",
    "reward_scale = 0.01\n",
    "\n",
    "# create DDPG Agent\n",
    "agent = DDPGAgent(state_size=state_size, \n",
    "                  action_size=action_size, \n",
    "                  hidden_size=hidden_size, \n",
    "                  actor_lr=actor_lr, \n",
    "                  critic_lr=critic_lr, \n",
    "                  discount=discount, \n",
    "                  min_action=min_action,\n",
    "                  max_action=max_action, \n",
    "                  exploration_noise=exploration_noise)"
   ]
  },
  {
   "cell_type": "code",
   "execution_count": 34,
   "metadata": {},
   "outputs": [
    {
     "data": {
      "text/plain": [
       "<All keys matched successfully>"
      ]
     },
     "execution_count": 34,
     "metadata": {},
     "output_type": "execute_result"
    }
   ],
   "source": [
    "# Load trained agent\n",
    "agent.actor.load_state_dict(torch.load('Trained_Agents/DDPG_actor.pth'))\n",
    "agent.critic.load_state_dict(torch.load('Trained_Agents/DDPG_critic.pth'))"
   ]
  },
  {
   "cell_type": "code",
   "execution_count": 48,
   "metadata": {},
   "outputs": [
    {
     "name": "stdout",
     "output_type": "stream",
     "text": [
      "Episode: 1, Total Reward: 224.95680188093806\n",
      "Episode: 2, Total Reward: 53.16196304233853\n",
      "Episode: 3, Total Reward: 247.8586926057429\n",
      "Episode: 4, Total Reward: 233.5692406986544\n",
      "Episode: 5, Total Reward: 173.59438052951504\n",
      "Episode: 6, Total Reward: 8.142750890254803\n",
      "Episode: 7, Total Reward: 176.49631806541117\n",
      "Episode: 8, Total Reward: 2.026573319603756\n",
      "Episode: 9, Total Reward: 201.50171099011067\n",
      "Episode: 10, Total Reward: -17.277588836938335\n",
      "Average Reward: 130.40308431856312\n"
     ]
    }
   ],
   "source": [
    "# Set the agent to evaluation mode\n",
    "agent.actor.eval()\n",
    "agent.critic.eval()\n",
    "\n",
    "episodes = 10\n",
    "rewards = []\n",
    "\n",
    "for ep in range(episodes):\n",
    "    state, _ = env.reset()\n",
    "    total_reward = 0\n",
    "    while True:\n",
    "        # Select an action from the agent's policy\n",
    "        action = agent.act(state, add_noise=False)  # No noise during testing\n",
    "\n",
    "        # Enter action into the env\n",
    "        next_state, reward, done, _, _ = env.step(action)\n",
    "\n",
    "        total_reward += reward\n",
    "\n",
    "        if done:\n",
    "            rewards.append(total_reward)\n",
    "            print(f'Episode: {ep+1}, Total Reward: {total_reward}')\n",
    "            break\n",
    "\n",
    "        state = next_state\n",
    "\n",
    "# Print average reward\n",
    "print(f'Average Reward: {np.mean(rewards)}')\n"
   ]
  }
 ],
 "metadata": {
  "kernelspec": {
   "display_name": "Python 3",
   "language": "python",
   "name": "python3"
  },
  "language_info": {
   "codemirror_mode": {
    "name": "ipython",
    "version": 3
   },
   "file_extension": ".py",
   "mimetype": "text/x-python",
   "name": "python",
   "nbconvert_exporter": "python",
   "pygments_lexer": "ipython3",
   "version": "3.10.11"
  }
 },
 "nbformat": 4,
 "nbformat_minor": 2
}
