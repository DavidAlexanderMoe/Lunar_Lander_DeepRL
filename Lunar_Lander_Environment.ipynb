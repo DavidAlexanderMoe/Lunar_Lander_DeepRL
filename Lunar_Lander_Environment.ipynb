{
 "cells": [
  {
   "cell_type": "markdown",
   "metadata": {},
   "source": [
    "# Lunar Lander Environment"
   ]
  },
  {
   "cell_type": "markdown",
   "metadata": {},
   "source": [
    "![](https://i.imgur.com/NAg48Qk.gif)\n",
    "\n",
    "https://www.gymlibrary.dev/environments/box2d/lunar_lander/"
   ]
  },
  {
   "cell_type": "code",
   "execution_count": 88,
   "metadata": {},
   "outputs": [],
   "source": [
    "import gymnasium as gym\n",
    "import matplotlib.pyplot as plt\n",
    "from IPython.display import clear_output\n",
    "import os"
   ]
  },
  {
   "cell_type": "code",
   "execution_count": 89,
   "metadata": {},
   "outputs": [],
   "source": [
    "# Directory for saving models\n",
    "save_dir = \"Trained_Agents\"\n",
    "if not os.path.exists(save_dir):\n",
    "    os.makedirs(save_dir)"
   ]
  },
  {
   "cell_type": "code",
   "execution_count": 90,
   "metadata": {},
   "outputs": [
    {
     "data": {
      "image/png": "[encoded data removed]",
      "text/plain": [
       "<Figure size 640x480 with 1 Axes>"
      ]
     },
     "metadata": {},
     "output_type": "display_data"
    }
   ],
   "source": [
    "env = gym.make(\"LunarLander-v2\", render_mode='rgb_array')\n",
    "env_continuous = gym.make(\"LunarLander-v2\", render_mode='rgb_array', continuous=True)\n",
    "env.reset()\n",
    "plt.imshow(env.render())\n",
    "plt.show()"
   ]
  },
  {
   "cell_type": "code",
   "execution_count": 91,
   "metadata": {},
   "outputs": [
    {
     "data": {
      "text/plain": [
       "{'render_modes': ['human', 'rgb_array'], 'render_fps': 50}"
      ]
     },
     "execution_count": 91,
     "metadata": {},
     "output_type": "execute_result"
    }
   ],
   "source": [
    "env.metadata"
   ]
  },
  {
   "cell_type": "markdown",
   "metadata": {},
   "source": [
    "| Feature Category  | Details                                |\n",
    "|-------------------|----------------------------------------|\n",
    "| Action Space      | Discrete(4) or Continuous: Box(-1.0, 1.0, (2,), float32)                          |\n",
    "| Observation Shape | (8,)                                   |\n",
    "| Observation High  | [1.5 1.5 5. 5. 3.14 5. 1. 1. ]         |\n",
    "| Observation Low   | [-1.5 -1.5 -5. -5. -3.14 -5. -0. -0. ] |\n",
    "| Import            | `gym.make(\"LunarLander-v2\")`           |\n",
    "\n",
    "This environment is a classic rocket trajectory optimization problem. According to Pontryagin’s maximum principle, it is optimal to fire the engine at full throttle or turn it off. This is the reason why this environment has discrete actions: engine on or off.\n",
    "\n",
    "There are two environment versions: discrete or continuous. The landing pad is always at coordinates (0,0). The coordinates are the first two numbers in the state vector. Landing outside of the landing pad is possible. Fuel is infinite, so an agent can learn to fly and then land on its first attempt."
   ]
  },
  {
   "cell_type": "markdown",
   "metadata": {},
   "source": [
    "### Action Space\n",
    "There are four discrete actions available: do nothing, fire left orientation engine, fire main engine, fire right orientation engine.\n",
    "\n",
    "| Action  | Result                          |\n",
    "|---------|---------------------------------|\n",
    "| 0       | Do nothing                      |\n",
    "| 1       | Fire left orientation engine    |\n",
    "| 2       | Fire main engine                |\n",
    "| 3       | Fire right orientation engine   |"
   ]
  },
  {
   "cell_type": "code",
   "execution_count": 92,
   "metadata": {},
   "outputs": [
    {
     "name": "stdout",
     "output_type": "stream",
     "text": [
      "Discrete Action Space: Discrete(4)\n"
     ]
    }
   ],
   "source": [
    "print(f'Discrete Action Space: {env.action_space}')"
   ]
  },
  {
   "cell_type": "code",
   "execution_count": 93,
   "metadata": {},
   "outputs": [
    {
     "name": "stdout",
     "output_type": "stream",
     "text": [
      "Continuous Action Space: Box(-1.0, 1.0, (2,), float32)\n"
     ]
    }
   ],
   "source": [
    "print(f'Continuous Action Space: {env_continuous.action_space}')"
   ]
  },
  {
   "cell_type": "markdown",
   "metadata": {},
   "source": [
    "### Observation Space\n",
    "The state is an 8-dimensional vector: the coordinates of the lander in x & y, its linear velocities in x & y, its angle, its angular velocity, and two booleans that represent whether each leg is in contact with the ground or not.\n",
    "\n",
    "| Observation  | Value                                   |\n",
    "|--------------|-----------------------------------------|\n",
    "| 0            | `x` coordinate (float)                  |\n",
    "| 1            | `y` coordinate (float)                  |\n",
    "| 2            | `x` linear velocity (float)             |\n",
    "| 3            | `y` linear velocity (float)             |\n",
    "| 4            | Angle in radians from -π to +π (float)  |\n",
    "| 5            | Angular velocity (float)                |\n",
    "| 6            | Left leg contact (bool)                 |\n",
    "| 7            | Right leg contact (bool)                |"
   ]
  },
  {
   "cell_type": "code",
   "execution_count": 94,
   "metadata": {},
   "outputs": [
    {
     "name": "stdout",
     "output_type": "stream",
     "text": [
      "Next State: [-0.014782238, 1.43213, -0.74281776, 0.4583353, 0.015411948, 0.13608974, 0.0, 0.0]\n",
      "Reward: 0.40033304620428223\n",
      "Done: False\n",
      "Truncated: False\n",
      "Info: {}\n"
     ]
    }
   ],
   "source": [
    "random_action = env.action_space.sample()\n",
    "next_state, reward, done, truncated, info = env.step(random_action)\n",
    "\n",
    "print(f'Next State: {list(next_state)}')\n",
    "print(f'Reward: {reward}')\n",
    "print(f'Done: {done}')      # if True call .reset()\n",
    "print(f'Truncated: {truncated}')\n",
    "print(f'Info: {info}')"
   ]
  },
  {
   "cell_type": "markdown",
   "metadata": {},
   "source": [
    "### Rewards\n",
    "Reward for moving from the top of the screen to the landing pad and coming to rest is about 100-140 points. \n",
    "If the lander moves away from the landing pad, it loses reward. \n",
    "- If the lander crashes, it receives an additional -100 points. \n",
    "- If it comes to rest, it receives an additional +100 points. \n",
    "---\n",
    "- Each leg with ground contact is +10 points. \n",
    "- Firing the main engine is -0.3 points each frame. \n",
    "- Firing the side engine is -0.03 points each frame. \n",
    "\n",
    "Solved is 200 points."
   ]
  },
  {
   "cell_type": "code",
   "execution_count": 95,
   "metadata": {},
   "outputs": [
    {
     "name": "stdout",
     "output_type": "stream",
     "text": [
      "Reward range: (-inf, inf)\n"
     ]
    }
   ],
   "source": [
    "print(f'Reward range: {env.reward_range}')"
   ]
  },
  {
   "cell_type": "markdown",
   "metadata": {},
   "source": [
    "### Starting State\n",
    "The lander starts at the top center of the viewport with a random initial force applied to its center of mass."
   ]
  },
  {
   "cell_type": "markdown",
   "metadata": {},
   "source": [
    "### Episode Termination\n",
    "The episode finishes if:\n",
    "- the lander crashes (the lander body gets in contact with the moon);\n",
    "- the lander gets outside of the viewport (x coordinate is greater than 1);\n",
    "- the lander is not awake. From the Box2D docs, a body which is not awake is a body which doesn’t move and doesn’t collide with any other body:"
   ]
  }
 ],
 "metadata": {
  "kernelspec": {
   "display_name": "Python 3",
   "language": "python",
   "name": "python3"
  },
  "language_info": {
   "codemirror_mode": {
    "name": "ipython",
    "version": 3
   },
   "file_extension": ".py",
   "mimetype": "text/x-python",
   "name": "python",
   "nbconvert_exporter": "python",
   "pygments_lexer": "ipython3",
   "version": "3.10.11"
  }
 },
 "nbformat": 4,
 "nbformat_minor": 2
}
